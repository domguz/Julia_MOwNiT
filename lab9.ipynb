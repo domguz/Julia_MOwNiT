{
 "cells": [
  {
   "cell_type": "code",
   "execution_count": 1,
   "metadata": {},
   "outputs": [
    {
     "name": "stdout",
     "output_type": "stream",
     "text": [
      "\u001b[32m\u001b[1m Resolving\u001b[22m\u001b[39m package versions...\n",
      "\u001b[32m\u001b[1m  Updating\u001b[22m\u001b[39m `~/.julia/Project.toml`\n",
      "\u001b[90m [no changes]\u001b[39m\n",
      "\u001b[32m\u001b[1m  Updating\u001b[22m\u001b[39m `~/.julia/Manifest.toml`\n",
      "\u001b[90m [no changes]\u001b[39m\n"
     ]
    }
   ],
   "source": [
    "import Pkg; Pkg.add(\"QuadGK\")\n",
    "using Plots\n",
    "using Polynomials\n",
    "using QuadGK"
   ]
  },
  {
   "cell_type": "code",
   "execution_count": 2,
   "metadata": {},
   "outputs": [
    {
     "data": {
      "text/plain": [
       "legendr (generic function with 1 method)"
      ]
     },
     "execution_count": 2,
     "metadata": {},
     "output_type": "execute_result"
    }
   ],
   "source": [
    "function legendr(k)\n",
    "    if k == 0\n",
    "        return Poly([1])\n",
    "    end\n",
    "    if k == 1\n",
    "        return Poly([0,1])\n",
    "    end\n",
    "    ((2k-1)/(k))*Poly([0,1])*legendr(k-1) - (k-1)/(k)*legendr(k-2)\n",
    "end"
   ]
  },
  {
   "cell_type": "code",
   "execution_count": 3,
   "metadata": {},
   "outputs": [
    {
     "data": {
      "image/svg+xml": [
       "<?xml version=\"1.0\" encoding=\"utf-8\"?>\n",
       "<svg xmlns=\"http://www.w3.org/2000/svg\" xmlns:xlink=\"http://www.w3.org/1999/xlink\" width=\"600\" height=\"400\" viewBox=\"0 0 2400 1600\">\n",
       "<defs>\n",
       "  <clipPath id=\"clip4400\">\n",
       "    <rect x=\"0\" y=\"0\" width=\"2000\" height=\"2000\"/>\n",
       "  </clipPath>\n",
       "</defs>\n",
       "<defs>\n",
       "  <clipPath id=\"clip4401\">\n",
       "    <rect x=\"0\" y=\"0\" width=\"2400\" height=\"1600\"/>\n",
       "  </clipPath>\n",
       "</defs>\n",
       "<polygon clip-path=\"url(#clip4401)\" points=\"\n",
       "0,1600 2400,1600 2400,0 0,0 \n",
       "  \" fill=\"#ffffff\" fill-rule=\"evenodd\" fill-opacity=\"1\"/>\n",
       "<defs>\n",
       "  <clipPath id=\"clip4402\">\n",
       "    <rect x=\"480\" y=\"0\" width=\"1681\" height=\"1600\"/>\n",
       "  </clipPath>\n",
       "</defs>\n",
       "<polygon clip-path=\"url(#clip4401)\" points=\"\n",
       "189.504,1503.47 2321.26,1503.47 2321.26,47.2441 189.504,47.2441 \n",
       "  \" fill=\"#ffffff\" fill-rule=\"evenodd\" fill-opacity=\"1\"/>\n",
       "<defs>\n",
       "  <clipPath id=\"clip4403\">\n",
       "    <rect x=\"189\" y=\"47\" width=\"2133\" height=\"1457\"/>\n",
       "  </clipPath>\n",
       "</defs>\n",
       "<polyline clip-path=\"url(#clip4403)\" style=\"stroke:#000000; stroke-width:2; stroke-opacity:0.1; fill:none\" points=\"\n",
       "  249.837,1503.47 249.837,47.2441 \n",
       "  \"/>\n",
       "<polyline clip-path=\"url(#clip4403)\" style=\"stroke:#000000; stroke-width:2; stroke-opacity:0.1; fill:none\" points=\"\n",
       "  752.609,1503.47 752.609,47.2441 \n",
       "  \"/>\n",
       "<polyline clip-path=\"url(#clip4403)\" style=\"stroke:#000000; stroke-width:2; stroke-opacity:0.1; fill:none\" points=\"\n",
       "  1255.38,1503.47 1255.38,47.2441 \n",
       "  \"/>\n",
       "<polyline clip-path=\"url(#clip4403)\" style=\"stroke:#000000; stroke-width:2; stroke-opacity:0.1; fill:none\" points=\"\n",
       "  1758.15,1503.47 1758.15,47.2441 \n",
       "  \"/>\n",
       "<polyline clip-path=\"url(#clip4403)\" style=\"stroke:#000000; stroke-width:2; stroke-opacity:0.1; fill:none\" points=\"\n",
       "  2260.93,1503.47 2260.93,47.2441 \n",
       "  \"/>\n",
       "<polyline clip-path=\"url(#clip4403)\" style=\"stroke:#000000; stroke-width:2; stroke-opacity:0.1; fill:none\" points=\"\n",
       "  189.504,1462.26 2321.26,1462.26 \n",
       "  \"/>\n",
       "<polyline clip-path=\"url(#clip4403)\" style=\"stroke:#000000; stroke-width:2; stroke-opacity:0.1; fill:none\" points=\"\n",
       "  189.504,1118.81 2321.26,1118.81 \n",
       "  \"/>\n",
       "<polyline clip-path=\"url(#clip4403)\" style=\"stroke:#000000; stroke-width:2; stroke-opacity:0.1; fill:none\" points=\"\n",
       "  189.504,775.359 2321.26,775.359 \n",
       "  \"/>\n",
       "<polyline clip-path=\"url(#clip4403)\" style=\"stroke:#000000; stroke-width:2; stroke-opacity:0.1; fill:none\" points=\"\n",
       "  189.504,431.909 2321.26,431.909 \n",
       "  \"/>\n",
       "<polyline clip-path=\"url(#clip4403)\" style=\"stroke:#000000; stroke-width:2; stroke-opacity:0.1; fill:none\" points=\"\n",
       "  189.504,88.4582 2321.26,88.4582 \n",
       "  \"/>\n",
       "<polyline clip-path=\"url(#clip4401)\" style=\"stroke:#000000; stroke-width:4; stroke-opacity:1; fill:none\" points=\"\n",
       "  189.504,1503.47 2321.26,1503.47 \n",
       "  \"/>\n",
       "<polyline clip-path=\"url(#clip4401)\" style=\"stroke:#000000; stroke-width:4; stroke-opacity:1; fill:none\" points=\"\n",
       "  189.504,1503.47 189.504,47.2441 \n",
       "  \"/>\n",
       "<polyline clip-path=\"url(#clip4401)\" style=\"stroke:#000000; stroke-width:4; stroke-opacity:1; fill:none\" points=\"\n",
       "  249.837,1503.47 249.837,1481.63 \n",
       "  \"/>\n",
       "<polyline clip-path=\"url(#clip4401)\" style=\"stroke:#000000; stroke-width:4; stroke-opacity:1; fill:none\" points=\"\n",
       "  752.609,1503.47 752.609,1481.63 \n",
       "  \"/>\n",
       "<polyline clip-path=\"url(#clip4401)\" style=\"stroke:#000000; stroke-width:4; stroke-opacity:1; fill:none\" points=\"\n",
       "  1255.38,1503.47 1255.38,1481.63 \n",
       "  \"/>\n",
       "<polyline clip-path=\"url(#clip4401)\" style=\"stroke:#000000; stroke-width:4; stroke-opacity:1; fill:none\" points=\"\n",
       "  1758.15,1503.47 1758.15,1481.63 \n",
       "  \"/>\n",
       "<polyline clip-path=\"url(#clip4401)\" style=\"stroke:#000000; stroke-width:4; stroke-opacity:1; fill:none\" points=\"\n",
       "  2260.93,1503.47 2260.93,1481.63 \n",
       "  \"/>\n",
       "<polyline clip-path=\"url(#clip4401)\" style=\"stroke:#000000; stroke-width:4; stroke-opacity:1; fill:none\" points=\"\n",
       "  189.504,1462.26 221.48,1462.26 \n",
       "  \"/>\n",
       "<polyline clip-path=\"url(#clip4401)\" style=\"stroke:#000000; stroke-width:4; stroke-opacity:1; fill:none\" points=\"\n",
       "  189.504,1118.81 221.48,1118.81 \n",
       "  \"/>\n",
       "<polyline clip-path=\"url(#clip4401)\" style=\"stroke:#000000; stroke-width:4; stroke-opacity:1; fill:none\" points=\"\n",
       "  189.504,775.359 221.48,775.359 \n",
       "  \"/>\n",
       "<polyline clip-path=\"url(#clip4401)\" style=\"stroke:#000000; stroke-width:4; stroke-opacity:1; fill:none\" points=\"\n",
       "  189.504,431.909 221.48,431.909 \n",
       "  \"/>\n",
       "<polyline clip-path=\"url(#clip4401)\" style=\"stroke:#000000; stroke-width:4; stroke-opacity:1; fill:none\" points=\"\n",
       "  189.504,88.4582 221.48,88.4582 \n",
       "  \"/>\n",
       "<g clip-path=\"url(#clip4401)\">\n",
       "<text style=\"fill:#000000; fill-opacity:1; font-family:Arial,Helvetica Neue,Helvetica,sans-serif; font-size:48px; text-anchor:middle;\" transform=\"rotate(0, 249.837, 1557.47)\" x=\"249.837\" y=\"1557.47\">-1.0</text>\n",
       "</g>\n",
       "<g clip-path=\"url(#clip4401)\">\n",
       "<text style=\"fill:#000000; fill-opacity:1; font-family:Arial,Helvetica Neue,Helvetica,sans-serif; font-size:48px; text-anchor:middle;\" transform=\"rotate(0, 752.609, 1557.47)\" x=\"752.609\" y=\"1557.47\">-0.5</text>\n",
       "</g>\n",
       "<g clip-path=\"url(#clip4401)\">\n",
       "<text style=\"fill:#000000; fill-opacity:1; font-family:Arial,Helvetica Neue,Helvetica,sans-serif; font-size:48px; text-anchor:middle;\" transform=\"rotate(0, 1255.38, 1557.47)\" x=\"1255.38\" y=\"1557.47\">0.0</text>\n",
       "</g>\n",
       "<g clip-path=\"url(#clip4401)\">\n",
       "<text style=\"fill:#000000; fill-opacity:1; font-family:Arial,Helvetica Neue,Helvetica,sans-serif; font-size:48px; text-anchor:middle;\" transform=\"rotate(0, 1758.15, 1557.47)\" x=\"1758.15\" y=\"1557.47\">0.5</text>\n",
       "</g>\n",
       "<g clip-path=\"url(#clip4401)\">\n",
       "<text style=\"fill:#000000; fill-opacity:1; font-family:Arial,Helvetica Neue,Helvetica,sans-serif; font-size:48px; text-anchor:middle;\" transform=\"rotate(0, 2260.93, 1557.47)\" x=\"2260.93\" y=\"1557.47\">1.0</text>\n",
       "</g>\n",
       "<g clip-path=\"url(#clip4401)\">\n",
       "<text style=\"fill:#000000; fill-opacity:1; font-family:Arial,Helvetica Neue,Helvetica,sans-serif; font-size:48px; text-anchor:end;\" transform=\"rotate(0, 165.504, 1479.76)\" x=\"165.504\" y=\"1479.76\">-1.0</text>\n",
       "</g>\n",
       "<g clip-path=\"url(#clip4401)\">\n",
       "<text style=\"fill:#000000; fill-opacity:1; font-family:Arial,Helvetica Neue,Helvetica,sans-serif; font-size:48px; text-anchor:end;\" transform=\"rotate(0, 165.504, 1136.31)\" x=\"165.504\" y=\"1136.31\">-0.5</text>\n",
       "</g>\n",
       "<g clip-path=\"url(#clip4401)\">\n",
       "<text style=\"fill:#000000; fill-opacity:1; font-family:Arial,Helvetica Neue,Helvetica,sans-serif; font-size:48px; text-anchor:end;\" transform=\"rotate(0, 165.504, 792.859)\" x=\"165.504\" y=\"792.859\">0.0</text>\n",
       "</g>\n",
       "<g clip-path=\"url(#clip4401)\">\n",
       "<text style=\"fill:#000000; fill-opacity:1; font-family:Arial,Helvetica Neue,Helvetica,sans-serif; font-size:48px; text-anchor:end;\" transform=\"rotate(0, 165.504, 449.409)\" x=\"165.504\" y=\"449.409\">0.5</text>\n",
       "</g>\n",
       "<g clip-path=\"url(#clip4401)\">\n",
       "<text style=\"fill:#000000; fill-opacity:1; font-family:Arial,Helvetica Neue,Helvetica,sans-serif; font-size:48px; text-anchor:end;\" transform=\"rotate(0, 165.504, 105.958)\" x=\"165.504\" y=\"105.958\">1.0</text>\n",
       "</g>\n",
       "<polyline clip-path=\"url(#clip4403)\" style=\"stroke:#009af9; stroke-width:4; stroke-opacity:1; fill:none\" points=\"\n",
       "  249.837,88.4582 259.892,108.962 269.948,129.26 280.003,149.352 290.059,169.238 300.114,188.917 310.17,208.391 320.225,227.659 330.28,246.72 340.336,265.576 \n",
       "  350.391,284.225 360.447,302.668 370.502,320.906 380.558,338.937 390.613,356.762 400.669,374.381 410.724,391.794 420.78,409.001 430.835,426.001 440.89,442.796 \n",
       "  450.946,459.385 461.001,475.767 471.057,491.944 481.112,507.914 491.168,523.679 501.223,539.237 511.279,554.589 521.334,569.736 531.389,584.676 541.445,599.41 \n",
       "  551.5,613.938 561.556,628.26 571.611,642.375 581.667,656.285 591.722,669.989 601.778,683.486 611.833,696.778 621.889,709.863 631.944,722.743 641.999,735.416 \n",
       "  652.055,747.883 662.11,760.145 672.166,772.2 682.221,784.049 692.277,795.692 702.332,807.129 712.388,818.359 722.443,829.384 732.499,840.203 742.554,850.816 \n",
       "  752.609,861.222 762.665,871.423 772.72,881.417 782.776,891.205 792.831,900.788 802.887,910.164 812.942,919.334 822.998,928.298 833.053,937.056 843.108,945.608 \n",
       "  853.164,953.954 863.219,962.094 873.275,970.027 883.33,977.755 893.386,985.276 903.441,992.592 913.497,999.701 923.552,1006.6 933.608,1013.3 943.663,1019.79 \n",
       "  953.718,1026.08 963.774,1032.16 973.829,1038.03 983.885,1043.7 993.94,1049.16 1004,1054.41 1014.05,1059.46 1024.11,1064.3 1034.16,1068.94 1044.22,1073.37 \n",
       "  1054.27,1077.6 1064.33,1081.61 1074.38,1085.43 1084.44,1089.03 1094.49,1092.43 1104.55,1095.63 1114.61,1098.62 1124.66,1101.4 1134.72,1103.97 1144.77,1106.34 \n",
       "  1154.83,1108.51 1164.88,1110.46 1174.94,1112.22 1184.99,1113.76 1195.05,1115.1 1205.1,1116.23 1215.16,1117.16 1225.22,1117.88 1235.27,1118.4 1245.33,1118.71 \n",
       "  1255.38,1118.81 1265.44,1118.71 1275.49,1118.4 1285.55,1117.88 1295.6,1117.16 1305.66,1116.23 1315.71,1115.1 1325.77,1113.76 1335.83,1112.22 1345.88,1110.46 \n",
       "  1355.94,1108.51 1365.99,1106.34 1376.05,1103.97 1386.1,1101.4 1396.16,1098.62 1406.21,1095.63 1416.27,1092.43 1426.32,1089.03 1436.38,1085.43 1446.44,1081.61 \n",
       "  1456.49,1077.6 1466.55,1073.37 1476.6,1068.94 1486.66,1064.3 1496.71,1059.46 1506.77,1054.41 1516.82,1049.16 1526.88,1043.7 1536.93,1038.03 1546.99,1032.16 \n",
       "  1557.05,1026.08 1567.1,1019.79 1577.16,1013.3 1587.21,1006.6 1597.27,999.701 1607.32,992.592 1617.38,985.276 1627.43,977.755 1637.49,970.027 1647.54,962.094 \n",
       "  1657.6,953.954 1667.66,945.608 1677.71,937.056 1687.77,928.298 1697.82,919.334 1707.88,910.164 1717.93,900.788 1727.99,891.205 1738.04,881.417 1748.1,871.423 \n",
       "  1758.15,861.222 1768.21,850.816 1778.27,840.203 1788.32,829.384 1798.38,818.359 1808.43,807.129 1818.49,795.692 1828.54,784.049 1838.6,772.2 1848.65,760.145 \n",
       "  1858.71,747.883 1868.76,735.416 1878.82,722.743 1888.88,709.863 1898.93,696.778 1908.99,683.486 1919.04,669.989 1929.1,656.285 1939.15,642.375 1949.21,628.26 \n",
       "  1959.26,613.938 1969.32,599.41 1979.37,584.676 1989.43,569.736 1999.49,554.589 2009.54,539.237 2019.6,523.679 2029.65,507.914 2039.71,491.944 2049.76,475.767 \n",
       "  2059.82,459.385 2069.87,442.796 2079.93,426.001 2089.98,409.001 2100.04,391.794 2110.1,374.381 2120.15,356.762 2130.21,338.937 2140.26,320.906 2150.32,302.668 \n",
       "  2160.37,284.225 2170.43,265.576 2180.48,246.72 2190.54,227.659 2200.59,208.391 2210.65,188.917 2220.71,169.238 2230.76,149.352 2240.82,129.26 2250.87,108.962 \n",
       "  2260.93,88.4582 \n",
       "  \"/>\n",
       "<polyline clip-path=\"url(#clip4403)\" style=\"stroke:#e26f46; stroke-width:4; stroke-opacity:1; fill:none\" points=\"\n",
       "  249.837,1462.26 259.892,1421.56 269.948,1381.88 280.003,1343.21 290.059,1305.54 300.114,1268.86 310.17,1233.15 320.225,1198.42 330.28,1164.64 340.336,1131.81 \n",
       "  350.391,1099.92 360.447,1068.96 370.502,1038.91 380.558,1009.77 390.613,981.526 400.669,954.168 410.724,927.687 420.78,902.07 430.835,877.309 440.89,853.393 \n",
       "  450.946,830.312 461.001,808.054 471.057,786.611 481.112,765.971 491.168,746.125 501.223,727.062 511.279,708.771 521.334,691.243 531.389,674.467 541.445,658.433 \n",
       "  551.5,643.131 561.556,628.55 571.611,614.679 581.667,601.51 591.722,589.031 601.778,577.231 611.833,566.102 621.889,555.632 631.944,545.811 641.999,536.629 \n",
       "  652.055,528.075 662.11,520.14 672.166,512.812 682.221,506.082 692.277,499.939 702.332,494.374 712.388,489.375 722.443,484.932 732.499,481.036 742.554,477.675 \n",
       "  752.609,474.84 762.665,472.52 772.72,470.705 782.776,469.384 792.831,468.548 802.887,468.186 812.942,468.287 822.998,468.842 833.053,469.839 843.108,471.27 \n",
       "  853.164,473.123 863.219,475.388 873.275,478.055 883.33,481.113 893.386,484.553 903.441,488.363 913.497,492.535 923.552,497.056 933.608,501.918 943.663,507.109 \n",
       "  953.718,512.62 963.774,518.439 973.829,524.558 983.885,530.965 993.94,537.65 1004,544.604 1014.05,551.814 1024.11,559.272 1034.16,566.967 1044.22,574.889 \n",
       "  1054.27,583.027 1064.33,591.371 1074.38,599.911 1084.44,608.636 1094.49,617.537 1104.55,626.602 1114.61,635.822 1124.66,645.186 1134.72,654.685 1144.77,664.306 \n",
       "  1154.83,674.041 1164.88,683.88 1174.94,693.81 1184.99,703.824 1195.05,713.909 1205.1,724.056 1215.16,734.255 1225.22,744.495 1235.27,754.766 1245.33,765.058 \n",
       "  1255.38,775.359 1265.44,785.661 1275.49,795.953 1285.55,806.224 1295.6,816.464 1305.66,826.662 1315.71,836.81 1325.77,846.895 1335.83,856.908 1345.88,866.839 \n",
       "  1355.94,876.677 1365.99,886.412 1376.05,896.034 1386.1,905.532 1396.16,914.897 1406.21,924.116 1416.27,933.182 1426.32,942.082 1436.38,950.808 1446.44,959.348 \n",
       "  1456.49,967.692 1466.55,975.83 1476.6,983.752 1486.66,991.447 1496.71,998.905 1506.77,1006.12 1516.82,1013.07 1526.88,1019.75 1536.93,1026.16 1546.99,1032.28 \n",
       "  1557.05,1038.1 1567.1,1043.61 1577.16,1048.8 1587.21,1053.66 1597.27,1058.18 1607.32,1062.36 1617.38,1066.17 1627.43,1069.61 1637.49,1072.66 1647.54,1075.33 \n",
       "  1657.6,1077.6 1667.66,1079.45 1677.71,1080.88 1687.77,1081.88 1697.82,1082.43 1707.88,1082.53 1717.93,1082.17 1727.99,1081.33 1738.04,1080.01 1748.1,1078.2 \n",
       "  1758.15,1075.88 1768.21,1073.04 1778.27,1069.68 1788.32,1065.79 1798.38,1061.34 1808.43,1056.34 1818.49,1050.78 1828.54,1044.64 1838.6,1037.91 1848.65,1030.58 \n",
       "  1858.71,1022.64 1868.76,1014.09 1878.82,1004.91 1888.88,995.087 1898.93,984.617 1908.99,973.487 1919.04,961.688 1929.1,949.209 1939.15,936.039 1949.21,922.169 \n",
       "  1959.26,907.588 1969.32,892.285 1979.37,876.251 1989.43,859.476 1999.49,841.948 2009.54,823.657 2019.6,804.594 2029.65,784.748 2039.71,764.108 2049.76,742.665 \n",
       "  2059.82,720.407 2069.87,697.326 2079.93,673.41 2089.98,648.648 2100.04,623.032 2110.1,596.55 2120.15,569.193 2130.21,540.949 2140.26,511.809 2150.32,481.762 \n",
       "  2160.37,450.799 2170.43,418.907 2180.48,386.079 2190.54,352.302 2200.59,317.567 2210.65,281.864 2220.71,245.182 2230.76,207.51 2240.82,168.839 2250.87,129.159 \n",
       "  2260.93,88.4582 \n",
       "  \"/>\n",
       "<polyline clip-path=\"url(#clip4403)\" style=\"stroke:#3da44d; stroke-width:4; stroke-opacity:1; fill:none\" points=\"\n",
       "  249.837,88.4582 259.892,930.174 269.948,1042.71 280.003,890.098 290.059,708.012 300.114,594.065 310.17,568.661 320.225,614.435 330.28,700.507 340.336,796.228 \n",
       "  350.391,877.919 360.447,931.151 370.502,950.388 380.558,937.271 390.613,898.361 400.669,842.894 410.724,780.837 420.78,721.393 430.835,671.998 440.89,637.77 \n",
       "  450.946,621.353 461.001,623.059 471.057,641.22 481.112,672.676 491.168,713.298 501.223,758.522 511.279,803.823 521.334,845.107 531.389,879.006 541.445,903.076 \n",
       "  551.5,915.882 561.556,917.003 571.611,906.958 581.667,887.071 591.722,859.294 601.778,826.015 611.833,789.845 621.889,753.428 631.944,719.259 641.999,689.532 \n",
       "  652.055,666.027 662.11,650.025 672.166,642.268 682.221,642.953 692.277,651.754 702.332,667.88 712.388,690.146 722.443,717.069 732.499,746.965 742.554,778.057 \n",
       "  752.609,808.577 762.665,836.856 772.72,861.414 782.776,881.024 792.831,894.763 802.887,902.048 812.942,902.644 822.998,896.669 833.053,884.564 843.108,867.063 \n",
       "  853.164,845.144 863.219,819.972 873.275,792.838 883.33,765.091 893.386,738.074 903.441,713.064 913.497,691.208 923.552,673.485 933.608,660.656 943.663,653.246 \n",
       "  953.718,651.52 963.774,655.48 973.829,664.875 983.885,679.215 993.94,697.799 1004,719.751 1014.05,744.063 1024.11,769.639 1034.16,795.344 1044.22,820.054 \n",
       "  1054.27,842.705 1064.33,862.332 1074.38,878.114 1084.44,889.401 1094.49,895.743 1104.55,896.902 1114.61,892.862 1124.66,883.824 1134.72,870.198 1144.77,852.583 \n",
       "  1154.83,831.738 1164.88,808.555 1174.94,784.013 1184.99,759.147 1195.05,734.996 1205.1,712.569 1215.16,692.798 1225.22,676.502 1235.27,664.356 1245.33,656.862 \n",
       "  1255.38,654.329 1265.44,656.862 1275.49,664.356 1285.55,676.502 1295.6,692.798 1305.66,712.569 1315.71,734.996 1325.77,759.147 1335.83,784.013 1345.88,808.555 \n",
       "  1355.94,831.738 1365.99,852.583 1376.05,870.198 1386.1,883.824 1396.16,892.862 1406.21,896.902 1416.27,895.743 1426.32,889.401 1436.38,878.114 1446.44,862.332 \n",
       "  1456.49,842.705 1466.55,820.054 1476.6,795.344 1486.66,769.639 1496.71,744.063 1506.77,719.751 1516.82,697.799 1526.88,679.215 1536.93,664.875 1546.99,655.48 \n",
       "  1557.05,651.52 1567.1,653.246 1577.16,660.656 1587.21,673.485 1597.27,691.208 1607.32,713.064 1617.38,738.074 1627.43,765.091 1637.49,792.838 1647.54,819.972 \n",
       "  1657.6,845.144 1667.66,867.063 1677.71,884.564 1687.77,896.669 1697.82,902.644 1707.88,902.048 1717.93,894.763 1727.99,881.024 1738.04,861.414 1748.1,836.856 \n",
       "  1758.15,808.577 1768.21,778.057 1778.27,746.965 1788.32,717.069 1798.38,690.146 1808.43,667.88 1818.49,651.754 1828.54,642.953 1838.6,642.268 1848.65,650.025 \n",
       "  1858.71,666.027 1868.76,689.532 1878.82,719.259 1888.88,753.428 1898.93,789.845 1908.99,826.015 1919.04,859.294 1929.1,887.071 1939.15,906.958 1949.21,917.003 \n",
       "  1959.26,915.882 1969.32,903.076 1979.37,879.006 1989.43,845.107 1999.49,803.823 2009.54,758.522 2019.6,713.298 2029.65,672.676 2039.71,641.22 2049.76,623.059 \n",
       "  2059.82,621.353 2069.87,637.77 2079.93,671.998 2089.98,721.393 2100.04,780.837 2110.1,842.894 2120.15,898.361 2130.21,937.271 2140.26,950.388 2150.32,931.151 \n",
       "  2160.37,877.919 2170.43,796.228 2180.48,700.507 2190.54,614.435 2200.59,568.661 2210.65,594.065 2220.71,708.012 2230.76,890.098 2240.82,1042.71 2250.87,930.174 \n",
       "  2260.93,88.4582 \n",
       "  \"/>\n",
       "<polygon clip-path=\"url(#clip4401)\" points=\"\n",
       "1958.43,372.684 2249.26,372.684 2249.26,130.764 1958.43,130.764 \n",
       "  \" fill=\"#ffffff\" fill-rule=\"evenodd\" fill-opacity=\"1\"/>\n",
       "<polyline clip-path=\"url(#clip4401)\" style=\"stroke:#000000; stroke-width:4; stroke-opacity:1; fill:none\" points=\"\n",
       "  1958.43,372.684 2249.26,372.684 2249.26,130.764 1958.43,130.764 1958.43,372.684 \n",
       "  \"/>\n",
       "<polyline clip-path=\"url(#clip4401)\" style=\"stroke:#009af9; stroke-width:4; stroke-opacity:1; fill:none\" points=\"\n",
       "  1982.43,191.244 2126.43,191.244 \n",
       "  \"/>\n",
       "<g clip-path=\"url(#clip4401)\">\n",
       "<text style=\"fill:#000000; fill-opacity:1; font-family:Arial,Helvetica Neue,Helvetica,sans-serif; font-size:48px; text-anchor:start;\" transform=\"rotate(0, 2150.43, 208.744)\" x=\"2150.43\" y=\"208.744\">y1</text>\n",
       "</g>\n",
       "<polyline clip-path=\"url(#clip4401)\" style=\"stroke:#e26f46; stroke-width:4; stroke-opacity:1; fill:none\" points=\"\n",
       "  1982.43,251.724 2126.43,251.724 \n",
       "  \"/>\n",
       "<g clip-path=\"url(#clip4401)\">\n",
       "<text style=\"fill:#000000; fill-opacity:1; font-family:Arial,Helvetica Neue,Helvetica,sans-serif; font-size:48px; text-anchor:start;\" transform=\"rotate(0, 2150.43, 269.224)\" x=\"2150.43\" y=\"269.224\">y2</text>\n",
       "</g>\n",
       "<polyline clip-path=\"url(#clip4401)\" style=\"stroke:#3da44d; stroke-width:4; stroke-opacity:1; fill:none\" points=\"\n",
       "  1982.43,312.204 2126.43,312.204 \n",
       "  \"/>\n",
       "<g clip-path=\"url(#clip4401)\">\n",
       "<text style=\"fill:#000000; fill-opacity:1; font-family:Arial,Helvetica Neue,Helvetica,sans-serif; font-size:48px; text-anchor:start;\" transform=\"rotate(0, 2150.43, 329.704)\" x=\"2150.43\" y=\"329.704\">y3</text>\n",
       "</g>\n",
       "</svg>\n"
      ]
     },
     "execution_count": 3,
     "metadata": {},
     "output_type": "execute_result"
    }
   ],
   "source": [
    "x = -1:0.01:1\n",
    "y = [legendr(2)(x1) for x1 in x]\n",
    "plot(x,y)\n",
    "y = [legendr(3)(x1) for x1 in x]\n",
    "plot!(x,y)\n",
    "y = [legendr(20)(x1) for x1 in x]\n",
    "plot!(x,y)"
   ]
  },
  {
   "cell_type": "code",
   "execution_count": 4,
   "metadata": {},
   "outputs": [
    {
     "data": {
      "text/plain": [
       "([-0.57735, 0.57735], [1.0, 1.0])"
      ]
     },
     "execution_count": 4,
     "metadata": {},
     "output_type": "execute_result"
    }
   ],
   "source": [
    "(xp,a)=gauss(Float64, 2)"
   ]
  },
  {
   "cell_type": "code",
   "execution_count": 5,
   "metadata": {},
   "outputs": [
    {
     "data": {
      "text/plain": [
       "2-element Array{Float64,1}:\n",
       " -0.5773502691896258\n",
       "  0.5773502691896256"
      ]
     },
     "execution_count": 5,
     "metadata": {},
     "output_type": "execute_result"
    }
   ],
   "source": [
    "roots(legendr(2))"
   ]
  },
  {
   "cell_type": "code",
   "execution_count": 6,
   "metadata": {},
   "outputs": [
    {
     "data": {
      "text/plain": [
       "([-0.774597, 0.0, 0.774597], [0.555556, 0.888889, 0.555556])"
      ]
     },
     "execution_count": 6,
     "metadata": {},
     "output_type": "execute_result"
    }
   ],
   "source": [
    "(xp,a)=gauss(Float64, 3)"
   ]
  },
  {
   "cell_type": "code",
   "execution_count": 9,
   "metadata": {},
   "outputs": [
    {
     "data": {
      "text/plain": [
       "3-element Array{Float64,1}:\n",
       " -0.7745966692414834\n",
       "  0.7745966692414833\n",
       "  0.0               "
      ]
     },
     "execution_count": 9,
     "metadata": {},
     "output_type": "execute_result"
    }
   ],
   "source": [
    "roots(legendr(3))"
   ]
  },
  {
   "cell_type": "code",
   "execution_count": 10,
   "metadata": {},
   "outputs": [
    {
     "data": {
      "text/plain": [
       "([-0.861136, -0.339981, 0.339981, 0.861136], [0.347855, 0.652145, 0.652145, 0.347855])"
      ]
     },
     "execution_count": 10,
     "metadata": {},
     "output_type": "execute_result"
    }
   ],
   "source": [
    "(xp,a)=gauss(Float64, 4)"
   ]
  },
  {
   "cell_type": "code",
   "execution_count": 11,
   "metadata": {},
   "outputs": [
    {
     "data": {
      "text/plain": [
       "4-element Array{Float64,1}:\n",
       " -0.8611363115940536 \n",
       "  0.8611363115940531 \n",
       " -0.33998104358485653\n",
       "  0.3399810435848563 "
      ]
     },
     "execution_count": 11,
     "metadata": {},
     "output_type": "execute_result"
    }
   ],
   "source": [
    "roots(legendr(4))"
   ]
  },
  {
   "cell_type": "code",
   "execution_count": null,
   "metadata": {},
   "outputs": [],
   "source": []
  },
  {
   "cell_type": "code",
   "execution_count": 12,
   "metadata": {},
   "outputs": [
    {
     "data": {
      "text/plain": [
       "integral (generic function with 1 method)"
      ]
     },
     "execution_count": 12,
     "metadata": {},
     "output_type": "execute_result"
    }
   ],
   "source": [
    "function integral(k, f)\n",
    "    (xp,a)=gauss(Float64, k)\n",
    "    sum(a .* f.(xp))\n",
    "end"
   ]
  },
  {
   "cell_type": "code",
   "execution_count": 13,
   "metadata": {},
   "outputs": [
    {
     "name": "stdout",
     "output_type": "stream",
     "text": [
      "1.2000000000000006\n"
     ]
    },
    {
     "data": {
      "text/plain": [
       "(1.1999999999999997, 2.220446049250313e-16)"
      ]
     },
     "execution_count": 13,
     "metadata": {},
     "output_type": "execute_result"
    }
   ],
   "source": [
    "f(x) = 3*x^4\n",
    "println( integral(6, f) )\n",
    "quadgk(f, -1, 1)"
   ]
  },
  {
   "cell_type": "code",
   "execution_count": 14,
   "metadata": {},
   "outputs": [
    {
     "name": "stdout",
     "output_type": "stream",
     "text": [
      "14.253968253968258\n",
      "(14.253968253968251, 3.552713678800501e-15)\n"
     ]
    },
    {
     "data": {
      "text/plain": [
       "4.9848766539962496e-14"
      ]
     },
     "execution_count": 14,
     "metadata": {},
     "output_type": "execute_result"
    }
   ],
   "source": [
    "f(x) = 50*x^8 + 4*x^6 + 5*x^4\n",
    "println( integral(5, f) )\n",
    "println( quadgk(f, -1, 1) )\n",
    "100 * abs((integral(5, f) - quadgk(f, -1, 1)[1]) / quadgk(f, -1, 1)[1])"
   ]
  },
  {
   "cell_type": "code",
   "execution_count": 15,
   "metadata": {},
   "outputs": [
    {
     "name": "stdout",
     "output_type": "stream",
     "text": [
      "12.087175610985136\n",
      "(12.233766233766227, 0.0)\n"
     ]
    },
    {
     "data": {
      "text/plain": [
       "1.198246067318893"
      ]
     },
     "execution_count": 15,
     "metadata": {},
     "output_type": "execute_result"
    }
   ],
   "source": [
    "f(x) = 50*x^10 + 4*x^6 + 5*x^4\n",
    "println( integral(5, f) )\n",
    "println( quadgk(f, -1, 1) )\n",
    "100 * abs((integral(5, f) - quadgk(f, -1, 1)[1]) / quadgk(f, -1, 1)[1])"
   ]
  },
  {
   "cell_type": "code",
   "execution_count": null,
   "metadata": {},
   "outputs": [],
   "source": []
  },
  {
   "cell_type": "code",
   "execution_count": 25,
   "metadata": {},
   "outputs": [
    {
     "data": {
      "text/plain": [
       "integral (generic function with 2 methods)"
      ]
     },
     "execution_count": 25,
     "metadata": {},
     "output_type": "execute_result"
    }
   ],
   "source": [
    "function integral(k, f, a, b)\n",
    "    (xp, p)=gauss(Float64, k)\n",
    "    \n",
    "    x = [ ((b+a)/2) + ((b-a)/2) * x1 for x1 in xp]\n",
    "    \n",
    "    sum(p .* f.(x)) * ((b-a)/2)\n",
    "end"
   ]
  },
  {
   "cell_type": "code",
   "execution_count": 32,
   "metadata": {},
   "outputs": [
    {
     "name": "stdout",
     "output_type": "stream",
     "text": [
      "41.66666666666668"
     ]
    },
    {
     "data": {
      "text/plain": [
       "(41.66666666666666, 0.0)"
      ]
     },
     "execution_count": 32,
     "metadata": {},
     "output_type": "execute_result"
    }
   ],
   "source": [
    "f(x) = x^2\n",
    "print(integral(10, f, 0, 5))\n",
    "quadgk(f, 0, 5)\n",
    "# 41.66666666666666"
   ]
  },
  {
   "cell_type": "code",
   "execution_count": 33,
   "metadata": {},
   "outputs": [
    {
     "name": "stdout",
     "output_type": "stream",
     "text": [
      "4.440892098500626e-16"
     ]
    },
    {
     "data": {
      "text/plain": [
       "(-4.440892098500626e-16, 0.0)"
      ]
     },
     "execution_count": 33,
     "metadata": {},
     "output_type": "execute_result"
    }
   ],
   "source": [
    "f(x) = x^3\n",
    "print(integral(10, f, -2, 2))\n",
    "quadgk(f, -2, 2)\n",
    "# "
   ]
  },
  {
   "cell_type": "code",
   "execution_count": 34,
   "metadata": {},
   "outputs": [
    {
     "name": "stdout",
     "output_type": "stream",
     "text": [
      "883.3333333333336"
     ]
    },
    {
     "data": {
      "text/plain": [
       "(883.3333333333333, 0.0)"
      ]
     },
     "execution_count": 34,
     "metadata": {},
     "output_type": "execute_result"
    }
   ],
   "source": [
    "f(x) = x^4 + 5*x^2 + 2*x + 5\n",
    "print(integral(10, f, 0, 5))\n",
    "quadgk(f, 0, 5)\n",
    "# 883.3333333333333"
   ]
  },
  {
   "cell_type": "code",
   "execution_count": 35,
   "metadata": {
    "scrolled": true
   },
   "outputs": [
    {
     "name": "stdout",
     "output_type": "stream",
     "text": [
      "2.0000001102844713"
     ]
    },
    {
     "data": {
      "text/plain": [
       "(2.0, 1.7905676941154525e-12)"
      ]
     },
     "execution_count": 35,
     "metadata": {},
     "output_type": "execute_result"
    }
   ],
   "source": [
    "f(x) = sin(x)\n",
    "print(integral(5, f, 0, pi))\n",
    "quadgk(f, 0, pi)\n",
    "# 2"
   ]
  },
  {
   "cell_type": "code",
   "execution_count": null,
   "metadata": {},
   "outputs": [],
   "source": []
  },
  {
   "cell_type": "code",
   "execution_count": 36,
   "metadata": {},
   "outputs": [
    {
     "data": {
      "text/plain": [
       "(883.3333333333333, 0.0)"
      ]
     },
     "execution_count": 36,
     "metadata": {},
     "output_type": "execute_result"
    }
   ],
   "source": [
    "f(x) = x^4 + 5*x^2 + 2*x + 5\n",
    "quadgk(f, 0, 5)"
   ]
  },
  {
   "cell_type": "code",
   "execution_count": 37,
   "metadata": {},
   "outputs": [
    {
     "data": {
      "text/plain": [
       "(1.0000000000032583, 1.4395584941504537e-8)"
      ]
     },
     "execution_count": 37,
     "metadata": {},
     "output_type": "execute_result"
    }
   ],
   "source": [
    "f(x) = ( 1 / sqrt(2*pi) ) * exp( (-x^2) / 2 )\n",
    "quadgk(f, -Inf, +Inf)"
   ]
  },
  {
   "cell_type": "code",
   "execution_count": null,
   "metadata": {},
   "outputs": [],
   "source": []
  },
  {
   "cell_type": "code",
   "execution_count": 38,
   "metadata": {},
   "outputs": [
    {
     "data": {
      "text/plain": [
       "trapezIntegral (generic function with 1 method)"
      ]
     },
     "execution_count": 38,
     "metadata": {},
     "output_type": "execute_result"
    }
   ],
   "source": [
    "function trapezIntegral(k, f, a, b)\n",
    "    l = (b-a) / k\n",
    "    xp = [a + (b-a) * (i/k) for i in range(0, k)]\n",
    "    yp = [ ( f(xp[i]) + f(xp[i+1]) ) / 2 for i in range(1, size(xp,1) - 1 )]\n",
    "    sum(yp) * l\n",
    "end"
   ]
  },
  {
   "cell_type": "code",
   "execution_count": 40,
   "metadata": {},
   "outputs": [
    {
     "data": {
      "image/svg+xml": [
       "<?xml version=\"1.0\" encoding=\"utf-8\"?>\n",
       "<svg xmlns=\"http://www.w3.org/2000/svg\" xmlns:xlink=\"http://www.w3.org/1999/xlink\" width=\"600\" height=\"400\" viewBox=\"0 0 2400 1600\">\n",
       "<defs>\n",
       "  <clipPath id=\"clip5300\">\n",
       "    <rect x=\"0\" y=\"0\" width=\"2000\" height=\"2000\"/>\n",
       "  </clipPath>\n",
       "</defs>\n",
       "<defs>\n",
       "  <clipPath id=\"clip5301\">\n",
       "    <rect x=\"0\" y=\"0\" width=\"2400\" height=\"1600\"/>\n",
       "  </clipPath>\n",
       "</defs>\n",
       "<polygon clip-path=\"url(#clip5301)\" points=\"\n",
       "0,1600 2400,1600 2400,0 0,0 \n",
       "  \" fill=\"#ffffff\" fill-rule=\"evenodd\" fill-opacity=\"1\"/>\n",
       "<defs>\n",
       "  <clipPath id=\"clip5302\">\n",
       "    <rect x=\"480\" y=\"0\" width=\"1681\" height=\"1600\"/>\n",
       "  </clipPath>\n",
       "</defs>\n",
       "<polygon clip-path=\"url(#clip5301)\" points=\"\n",
       "174.775,1503.47 2321.26,1503.47 2321.26,47.2441 174.775,47.2441 \n",
       "  \" fill=\"#ffffff\" fill-rule=\"evenodd\" fill-opacity=\"1\"/>\n",
       "<defs>\n",
       "  <clipPath id=\"clip5303\">\n",
       "    <rect x=\"174\" y=\"47\" width=\"2147\" height=\"1457\"/>\n",
       "  </clipPath>\n",
       "</defs>\n",
       "<polyline clip-path=\"url(#clip5303)\" style=\"stroke:#000000; stroke-width:2; stroke-opacity:0.1; fill:none\" points=\"\n",
       "  235.525,1503.47 235.525,47.2441 \n",
       "  \"/>\n",
       "<polyline clip-path=\"url(#clip5303)\" style=\"stroke:#000000; stroke-width:2; stroke-opacity:0.1; fill:none\" points=\"\n",
       "  640.522,1503.47 640.522,47.2441 \n",
       "  \"/>\n",
       "<polyline clip-path=\"url(#clip5303)\" style=\"stroke:#000000; stroke-width:2; stroke-opacity:0.1; fill:none\" points=\"\n",
       "  1045.52,1503.47 1045.52,47.2441 \n",
       "  \"/>\n",
       "<polyline clip-path=\"url(#clip5303)\" style=\"stroke:#000000; stroke-width:2; stroke-opacity:0.1; fill:none\" points=\"\n",
       "  1450.52,1503.47 1450.52,47.2441 \n",
       "  \"/>\n",
       "<polyline clip-path=\"url(#clip5303)\" style=\"stroke:#000000; stroke-width:2; stroke-opacity:0.1; fill:none\" points=\"\n",
       "  1855.51,1503.47 1855.51,47.2441 \n",
       "  \"/>\n",
       "<polyline clip-path=\"url(#clip5303)\" style=\"stroke:#000000; stroke-width:2; stroke-opacity:0.1; fill:none\" points=\"\n",
       "  2260.51,1503.47 2260.51,47.2441 \n",
       "  \"/>\n",
       "<polyline clip-path=\"url(#clip5303)\" style=\"stroke:#000000; stroke-width:2; stroke-opacity:0.1; fill:none\" points=\"\n",
       "  174.775,1471.24 2321.26,1471.24 \n",
       "  \"/>\n",
       "<polyline clip-path=\"url(#clip5303)\" style=\"stroke:#000000; stroke-width:2; stroke-opacity:0.1; fill:none\" points=\"\n",
       "  174.775,1255.32 2321.26,1255.32 \n",
       "  \"/>\n",
       "<polyline clip-path=\"url(#clip5303)\" style=\"stroke:#000000; stroke-width:2; stroke-opacity:0.1; fill:none\" points=\"\n",
       "  174.775,1039.4 2321.26,1039.4 \n",
       "  \"/>\n",
       "<polyline clip-path=\"url(#clip5303)\" style=\"stroke:#000000; stroke-width:2; stroke-opacity:0.1; fill:none\" points=\"\n",
       "  174.775,823.479 2321.26,823.479 \n",
       "  \"/>\n",
       "<polyline clip-path=\"url(#clip5303)\" style=\"stroke:#000000; stroke-width:2; stroke-opacity:0.1; fill:none\" points=\"\n",
       "  174.775,607.558 2321.26,607.558 \n",
       "  \"/>\n",
       "<polyline clip-path=\"url(#clip5303)\" style=\"stroke:#000000; stroke-width:2; stroke-opacity:0.1; fill:none\" points=\"\n",
       "  174.775,391.637 2321.26,391.637 \n",
       "  \"/>\n",
       "<polyline clip-path=\"url(#clip5303)\" style=\"stroke:#000000; stroke-width:2; stroke-opacity:0.1; fill:none\" points=\"\n",
       "  174.775,175.715 2321.26,175.715 \n",
       "  \"/>\n",
       "<polyline clip-path=\"url(#clip5301)\" style=\"stroke:#000000; stroke-width:4; stroke-opacity:1; fill:none\" points=\"\n",
       "  174.775,1503.47 2321.26,1503.47 \n",
       "  \"/>\n",
       "<polyline clip-path=\"url(#clip5301)\" style=\"stroke:#000000; stroke-width:4; stroke-opacity:1; fill:none\" points=\"\n",
       "  174.775,1503.47 174.775,47.2441 \n",
       "  \"/>\n",
       "<polyline clip-path=\"url(#clip5301)\" style=\"stroke:#000000; stroke-width:4; stroke-opacity:1; fill:none\" points=\"\n",
       "  235.525,1503.47 235.525,1481.63 \n",
       "  \"/>\n",
       "<polyline clip-path=\"url(#clip5301)\" style=\"stroke:#000000; stroke-width:4; stroke-opacity:1; fill:none\" points=\"\n",
       "  640.522,1503.47 640.522,1481.63 \n",
       "  \"/>\n",
       "<polyline clip-path=\"url(#clip5301)\" style=\"stroke:#000000; stroke-width:4; stroke-opacity:1; fill:none\" points=\"\n",
       "  1045.52,1503.47 1045.52,1481.63 \n",
       "  \"/>\n",
       "<polyline clip-path=\"url(#clip5301)\" style=\"stroke:#000000; stroke-width:4; stroke-opacity:1; fill:none\" points=\"\n",
       "  1450.52,1503.47 1450.52,1481.63 \n",
       "  \"/>\n",
       "<polyline clip-path=\"url(#clip5301)\" style=\"stroke:#000000; stroke-width:4; stroke-opacity:1; fill:none\" points=\"\n",
       "  1855.51,1503.47 1855.51,1481.63 \n",
       "  \"/>\n",
       "<polyline clip-path=\"url(#clip5301)\" style=\"stroke:#000000; stroke-width:4; stroke-opacity:1; fill:none\" points=\"\n",
       "  2260.51,1503.47 2260.51,1481.63 \n",
       "  \"/>\n",
       "<polyline clip-path=\"url(#clip5301)\" style=\"stroke:#000000; stroke-width:4; stroke-opacity:1; fill:none\" points=\"\n",
       "  174.775,1471.24 206.972,1471.24 \n",
       "  \"/>\n",
       "<polyline clip-path=\"url(#clip5301)\" style=\"stroke:#000000; stroke-width:4; stroke-opacity:1; fill:none\" points=\"\n",
       "  174.775,1255.32 206.972,1255.32 \n",
       "  \"/>\n",
       "<polyline clip-path=\"url(#clip5301)\" style=\"stroke:#000000; stroke-width:4; stroke-opacity:1; fill:none\" points=\"\n",
       "  174.775,1039.4 206.972,1039.4 \n",
       "  \"/>\n",
       "<polyline clip-path=\"url(#clip5301)\" style=\"stroke:#000000; stroke-width:4; stroke-opacity:1; fill:none\" points=\"\n",
       "  174.775,823.479 206.972,823.479 \n",
       "  \"/>\n",
       "<polyline clip-path=\"url(#clip5301)\" style=\"stroke:#000000; stroke-width:4; stroke-opacity:1; fill:none\" points=\"\n",
       "  174.775,607.558 206.972,607.558 \n",
       "  \"/>\n",
       "<polyline clip-path=\"url(#clip5301)\" style=\"stroke:#000000; stroke-width:4; stroke-opacity:1; fill:none\" points=\"\n",
       "  174.775,391.637 206.972,391.637 \n",
       "  \"/>\n",
       "<polyline clip-path=\"url(#clip5301)\" style=\"stroke:#000000; stroke-width:4; stroke-opacity:1; fill:none\" points=\"\n",
       "  174.775,175.715 206.972,175.715 \n",
       "  \"/>\n",
       "<g clip-path=\"url(#clip5301)\">\n",
       "<text style=\"fill:#000000; fill-opacity:1; font-family:Arial,Helvetica Neue,Helvetica,sans-serif; font-size:48px; text-anchor:middle;\" transform=\"rotate(0, 235.525, 1557.47)\" x=\"235.525\" y=\"1557.47\">15</text>\n",
       "</g>\n",
       "<g clip-path=\"url(#clip5301)\">\n",
       "<text style=\"fill:#000000; fill-opacity:1; font-family:Arial,Helvetica Neue,Helvetica,sans-serif; font-size:48px; text-anchor:middle;\" transform=\"rotate(0, 640.522, 1557.47)\" x=\"640.522\" y=\"1557.47\">20</text>\n",
       "</g>\n",
       "<g clip-path=\"url(#clip5301)\">\n",
       "<text style=\"fill:#000000; fill-opacity:1; font-family:Arial,Helvetica Neue,Helvetica,sans-serif; font-size:48px; text-anchor:middle;\" transform=\"rotate(0, 1045.52, 1557.47)\" x=\"1045.52\" y=\"1557.47\">25</text>\n",
       "</g>\n",
       "<g clip-path=\"url(#clip5301)\">\n",
       "<text style=\"fill:#000000; fill-opacity:1; font-family:Arial,Helvetica Neue,Helvetica,sans-serif; font-size:48px; text-anchor:middle;\" transform=\"rotate(0, 1450.52, 1557.47)\" x=\"1450.52\" y=\"1557.47\">30</text>\n",
       "</g>\n",
       "<g clip-path=\"url(#clip5301)\">\n",
       "<text style=\"fill:#000000; fill-opacity:1; font-family:Arial,Helvetica Neue,Helvetica,sans-serif; font-size:48px; text-anchor:middle;\" transform=\"rotate(0, 1855.51, 1557.47)\" x=\"1855.51\" y=\"1557.47\">35</text>\n",
       "</g>\n",
       "<g clip-path=\"url(#clip5301)\">\n",
       "<text style=\"fill:#000000; fill-opacity:1; font-family:Arial,Helvetica Neue,Helvetica,sans-serif; font-size:48px; text-anchor:middle;\" transform=\"rotate(0, 2260.51, 1557.47)\" x=\"2260.51\" y=\"1557.47\">40</text>\n",
       "</g>\n",
       "<g clip-path=\"url(#clip5301)\">\n",
       "<text style=\"fill:#000000; fill-opacity:1; font-family:Arial,Helvetica Neue,Helvetica,sans-serif; font-size:48px; text-anchor:end;\" transform=\"rotate(0, 150.775, 1488.74)\" x=\"150.775\" y=\"1488.74\">100</text>\n",
       "</g>\n",
       "<g clip-path=\"url(#clip5301)\">\n",
       "<text style=\"fill:#000000; fill-opacity:1; font-family:Arial,Helvetica Neue,Helvetica,sans-serif; font-size:48px; text-anchor:end;\" transform=\"rotate(0, 150.775, 1272.82)\" x=\"150.775\" y=\"1272.82\">200</text>\n",
       "</g>\n",
       "<g clip-path=\"url(#clip5301)\">\n",
       "<text style=\"fill:#000000; fill-opacity:1; font-family:Arial,Helvetica Neue,Helvetica,sans-serif; font-size:48px; text-anchor:end;\" transform=\"rotate(0, 150.775, 1056.9)\" x=\"150.775\" y=\"1056.9\">300</text>\n",
       "</g>\n",
       "<g clip-path=\"url(#clip5301)\">\n",
       "<text style=\"fill:#000000; fill-opacity:1; font-family:Arial,Helvetica Neue,Helvetica,sans-serif; font-size:48px; text-anchor:end;\" transform=\"rotate(0, 150.775, 840.979)\" x=\"150.775\" y=\"840.979\">400</text>\n",
       "</g>\n",
       "<g clip-path=\"url(#clip5301)\">\n",
       "<text style=\"fill:#000000; fill-opacity:1; font-family:Arial,Helvetica Neue,Helvetica,sans-serif; font-size:48px; text-anchor:end;\" transform=\"rotate(0, 150.775, 625.058)\" x=\"150.775\" y=\"625.058\">500</text>\n",
       "</g>\n",
       "<g clip-path=\"url(#clip5301)\">\n",
       "<text style=\"fill:#000000; fill-opacity:1; font-family:Arial,Helvetica Neue,Helvetica,sans-serif; font-size:48px; text-anchor:end;\" transform=\"rotate(0, 150.775, 409.137)\" x=\"150.775\" y=\"409.137\">600</text>\n",
       "</g>\n",
       "<g clip-path=\"url(#clip5301)\">\n",
       "<text style=\"fill:#000000; fill-opacity:1; font-family:Arial,Helvetica Neue,Helvetica,sans-serif; font-size:48px; text-anchor:end;\" transform=\"rotate(0, 150.775, 193.215)\" x=\"150.775\" y=\"193.215\">700</text>\n",
       "</g>\n",
       "<circle clip-path=\"url(#clip5303)\" style=\"fill:#000000; stroke:none; fill-opacity:1\" cx=\"235.525\" cy=\"88.4582\" r=\"18\"/>\n",
       "<circle clip-path=\"url(#clip5303)\" style=\"fill:#009af9; stroke:none; fill-opacity:1\" cx=\"235.525\" cy=\"88.4582\" r=\"14\"/>\n",
       "<circle clip-path=\"url(#clip5303)\" style=\"fill:#000000; stroke:none; fill-opacity:1\" cx=\"316.524\" cy=\"281.976\" r=\"18\"/>\n",
       "<circle clip-path=\"url(#clip5303)\" style=\"fill:#009af9; stroke:none; fill-opacity:1\" cx=\"316.524\" cy=\"281.976\" r=\"14\"/>\n",
       "<circle clip-path=\"url(#clip5303)\" style=\"fill:#000000; stroke:none; fill-opacity:1\" cx=\"397.524\" cy=\"442.374\" r=\"18\"/>\n",
       "<circle clip-path=\"url(#clip5303)\" style=\"fill:#009af9; stroke:none; fill-opacity:1\" cx=\"397.524\" cy=\"442.374\" r=\"14\"/>\n",
       "<circle clip-path=\"url(#clip5303)\" style=\"fill:#000000; stroke:none; fill-opacity:1\" cx=\"478.523\" cy=\"576.801\" r=\"18\"/>\n",
       "<circle clip-path=\"url(#clip5303)\" style=\"fill:#009af9; stroke:none; fill-opacity:1\" cx=\"478.523\" cy=\"576.801\" r=\"14\"/>\n",
       "<circle clip-path=\"url(#clip5303)\" style=\"fill:#000000; stroke:none; fill-opacity:1\" cx=\"559.522\" cy=\"690.574\" r=\"18\"/>\n",
       "<circle clip-path=\"url(#clip5303)\" style=\"fill:#009af9; stroke:none; fill-opacity:1\" cx=\"559.522\" cy=\"690.574\" r=\"14\"/>\n",
       "<circle clip-path=\"url(#clip5303)\" style=\"fill:#000000; stroke:none; fill-opacity:1\" cx=\"640.522\" cy=\"787.717\" r=\"18\"/>\n",
       "<circle clip-path=\"url(#clip5303)\" style=\"fill:#009af9; stroke:none; fill-opacity:1\" cx=\"640.522\" cy=\"787.717\" r=\"14\"/>\n",
       "<circle clip-path=\"url(#clip5303)\" style=\"fill:#000000; stroke:none; fill-opacity:1\" cx=\"721.521\" cy=\"871.32\" r=\"18\"/>\n",
       "<circle clip-path=\"url(#clip5303)\" style=\"fill:#009af9; stroke:none; fill-opacity:1\" cx=\"721.521\" cy=\"871.32\" r=\"14\"/>\n",
       "<circle clip-path=\"url(#clip5303)\" style=\"fill:#000000; stroke:none; fill-opacity:1\" cx=\"802.521\" cy=\"943.787\" r=\"18\"/>\n",
       "<circle clip-path=\"url(#clip5303)\" style=\"fill:#009af9; stroke:none; fill-opacity:1\" cx=\"802.521\" cy=\"943.787\" r=\"14\"/>\n",
       "<circle clip-path=\"url(#clip5303)\" style=\"fill:#000000; stroke:none; fill-opacity:1\" cx=\"883.52\" cy=\"1007.01\" r=\"18\"/>\n",
       "<circle clip-path=\"url(#clip5303)\" style=\"fill:#009af9; stroke:none; fill-opacity:1\" cx=\"883.52\" cy=\"1007.01\" r=\"14\"/>\n",
       "<circle clip-path=\"url(#clip5303)\" style=\"fill:#000000; stroke:none; fill-opacity:1\" cx=\"964.52\" cy=\"1062.5\" r=\"18\"/>\n",
       "<circle clip-path=\"url(#clip5303)\" style=\"fill:#009af9; stroke:none; fill-opacity:1\" cx=\"964.52\" cy=\"1062.5\" r=\"14\"/>\n",
       "<circle clip-path=\"url(#clip5303)\" style=\"fill:#000000; stroke:none; fill-opacity:1\" cx=\"1045.52\" cy=\"1111.47\" r=\"18\"/>\n",
       "<circle clip-path=\"url(#clip5303)\" style=\"fill:#009af9; stroke:none; fill-opacity:1\" cx=\"1045.52\" cy=\"1111.47\" r=\"14\"/>\n",
       "<circle clip-path=\"url(#clip5303)\" style=\"fill:#000000; stroke:none; fill-opacity:1\" cx=\"1126.52\" cy=\"1154.89\" r=\"18\"/>\n",
       "<circle clip-path=\"url(#clip5303)\" style=\"fill:#009af9; stroke:none; fill-opacity:1\" cx=\"1126.52\" cy=\"1154.89\" r=\"14\"/>\n",
       "<circle clip-path=\"url(#clip5303)\" style=\"fill:#000000; stroke:none; fill-opacity:1\" cx=\"1207.52\" cy=\"1193.59\" r=\"18\"/>\n",
       "<circle clip-path=\"url(#clip5303)\" style=\"fill:#009af9; stroke:none; fill-opacity:1\" cx=\"1207.52\" cy=\"1193.59\" r=\"14\"/>\n",
       "<circle clip-path=\"url(#clip5303)\" style=\"fill:#000000; stroke:none; fill-opacity:1\" cx=\"1288.52\" cy=\"1228.21\" r=\"18\"/>\n",
       "<circle clip-path=\"url(#clip5303)\" style=\"fill:#009af9; stroke:none; fill-opacity:1\" cx=\"1288.52\" cy=\"1228.21\" r=\"14\"/>\n",
       "<circle clip-path=\"url(#clip5303)\" style=\"fill:#000000; stroke:none; fill-opacity:1\" cx=\"1369.52\" cy=\"1259.31\" r=\"18\"/>\n",
       "<circle clip-path=\"url(#clip5303)\" style=\"fill:#009af9; stroke:none; fill-opacity:1\" cx=\"1369.52\" cy=\"1259.31\" r=\"14\"/>\n",
       "<circle clip-path=\"url(#clip5303)\" style=\"fill:#000000; stroke:none; fill-opacity:1\" cx=\"1450.52\" cy=\"1287.35\" r=\"18\"/>\n",
       "<circle clip-path=\"url(#clip5303)\" style=\"fill:#009af9; stroke:none; fill-opacity:1\" cx=\"1450.52\" cy=\"1287.35\" r=\"14\"/>\n",
       "<circle clip-path=\"url(#clip5303)\" style=\"fill:#000000; stroke:none; fill-opacity:1\" cx=\"1531.52\" cy=\"1312.73\" r=\"18\"/>\n",
       "<circle clip-path=\"url(#clip5303)\" style=\"fill:#009af9; stroke:none; fill-opacity:1\" cx=\"1531.52\" cy=\"1312.73\" r=\"14\"/>\n",
       "<circle clip-path=\"url(#clip5303)\" style=\"fill:#000000; stroke:none; fill-opacity:1\" cx=\"1612.51\" cy=\"1335.76\" r=\"18\"/>\n",
       "<circle clip-path=\"url(#clip5303)\" style=\"fill:#009af9; stroke:none; fill-opacity:1\" cx=\"1612.51\" cy=\"1335.76\" r=\"14\"/>\n",
       "<circle clip-path=\"url(#clip5303)\" style=\"fill:#000000; stroke:none; fill-opacity:1\" cx=\"1693.51\" cy=\"1356.74\" r=\"18\"/>\n",
       "<circle clip-path=\"url(#clip5303)\" style=\"fill:#009af9; stroke:none; fill-opacity:1\" cx=\"1693.51\" cy=\"1356.74\" r=\"14\"/>\n",
       "<circle clip-path=\"url(#clip5303)\" style=\"fill:#000000; stroke:none; fill-opacity:1\" cx=\"1774.51\" cy=\"1375.89\" r=\"18\"/>\n",
       "<circle clip-path=\"url(#clip5303)\" style=\"fill:#009af9; stroke:none; fill-opacity:1\" cx=\"1774.51\" cy=\"1375.89\" r=\"14\"/>\n",
       "<circle clip-path=\"url(#clip5303)\" style=\"fill:#000000; stroke:none; fill-opacity:1\" cx=\"1855.51\" cy=\"1393.42\" r=\"18\"/>\n",
       "<circle clip-path=\"url(#clip5303)\" style=\"fill:#009af9; stroke:none; fill-opacity:1\" cx=\"1855.51\" cy=\"1393.42\" r=\"14\"/>\n",
       "<circle clip-path=\"url(#clip5303)\" style=\"fill:#000000; stroke:none; fill-opacity:1\" cx=\"1936.51\" cy=\"1409.51\" r=\"18\"/>\n",
       "<circle clip-path=\"url(#clip5303)\" style=\"fill:#009af9; stroke:none; fill-opacity:1\" cx=\"1936.51\" cy=\"1409.51\" r=\"14\"/>\n",
       "<circle clip-path=\"url(#clip5303)\" style=\"fill:#000000; stroke:none; fill-opacity:1\" cx=\"2017.51\" cy=\"1424.31\" r=\"18\"/>\n",
       "<circle clip-path=\"url(#clip5303)\" style=\"fill:#009af9; stroke:none; fill-opacity:1\" cx=\"2017.51\" cy=\"1424.31\" r=\"14\"/>\n",
       "<circle clip-path=\"url(#clip5303)\" style=\"fill:#000000; stroke:none; fill-opacity:1\" cx=\"2098.51\" cy=\"1437.97\" r=\"18\"/>\n",
       "<circle clip-path=\"url(#clip5303)\" style=\"fill:#009af9; stroke:none; fill-opacity:1\" cx=\"2098.51\" cy=\"1437.97\" r=\"14\"/>\n",
       "<circle clip-path=\"url(#clip5303)\" style=\"fill:#000000; stroke:none; fill-opacity:1\" cx=\"2179.51\" cy=\"1450.58\" r=\"18\"/>\n",
       "<circle clip-path=\"url(#clip5303)\" style=\"fill:#009af9; stroke:none; fill-opacity:1\" cx=\"2179.51\" cy=\"1450.58\" r=\"14\"/>\n",
       "<circle clip-path=\"url(#clip5303)\" style=\"fill:#000000; stroke:none; fill-opacity:1\" cx=\"2260.51\" cy=\"1462.26\" r=\"18\"/>\n",
       "<circle clip-path=\"url(#clip5303)\" style=\"fill:#009af9; stroke:none; fill-opacity:1\" cx=\"2260.51\" cy=\"1462.26\" r=\"14\"/>\n",
       "<polygon clip-path=\"url(#clip5301)\" points=\"\n",
       "1958.43,251.724 2249.26,251.724 2249.26,130.764 1958.43,130.764 \n",
       "  \" fill=\"#ffffff\" fill-rule=\"evenodd\" fill-opacity=\"1\"/>\n",
       "<polyline clip-path=\"url(#clip5301)\" style=\"stroke:#000000; stroke-width:4; stroke-opacity:1; fill:none\" points=\"\n",
       "  1958.43,251.724 2249.26,251.724 2249.26,130.764 1958.43,130.764 1958.43,251.724 \n",
       "  \"/>\n",
       "<circle clip-path=\"url(#clip5301)\" style=\"fill:#000000; stroke:none; fill-opacity:1\" cx=\"2066.43\" cy=\"191.244\" r=\"25\"/>\n",
       "<circle clip-path=\"url(#clip5301)\" style=\"fill:#009af9; stroke:none; fill-opacity:1\" cx=\"2066.43\" cy=\"191.244\" r=\"21\"/>\n",
       "<g clip-path=\"url(#clip5301)\">\n",
       "<text style=\"fill:#000000; fill-opacity:1; font-family:Arial,Helvetica Neue,Helvetica,sans-serif; font-size:48px; text-anchor:start;\" transform=\"rotate(0, 2150.43, 208.744)\" x=\"2150.43\" y=\"208.744\">y1</text>\n",
       "</g>\n",
       "</svg>\n"
      ]
     },
     "execution_count": 40,
     "metadata": {},
     "output_type": "execute_result"
    }
   ],
   "source": [
    "f(x) = 5 * x^4\n",
    "F(x) = x^5\n",
    "\n",
    "k = 15:40\n",
    "err = [trapezIntegral(k1, f, 0, 10) - (F(10) - F(0)) for k1 in k]\n",
    "scatter(k, err)"
   ]
  },
  {
   "cell_type": "code",
   "execution_count": null,
   "metadata": {},
   "outputs": [],
   "source": []
  },
  {
   "cell_type": "code",
   "execution_count": null,
   "metadata": {},
   "outputs": [],
   "source": []
  }
 ],
 "metadata": {
  "kernelspec": {
   "display_name": "Julia 1.0.3 (4 threads)",
   "language": "julia",
   "name": "julia-1.0k"
  },
  "language_info": {
   "file_extension": ".jl",
   "mimetype": "application/julia",
   "name": "julia",
   "version": "1.0.3"
  }
 },
 "nbformat": 4,
 "nbformat_minor": 2
}

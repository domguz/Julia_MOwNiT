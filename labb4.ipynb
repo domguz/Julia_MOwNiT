{
 "cells": [
  {
   "cell_type": "code",
   "execution_count": 1,
   "metadata": {},
   "outputs": [
    {
     "data": {
      "text/plain": [
       "1000-element Array{Float64,1}:\n",
       " 253.3083276849195 \n",
       " 243.05911474818893\n",
       " 246.11078789302942\n",
       " 237.85762520000162\n",
       " 245.5549805445389 \n",
       " 245.78824188201287\n",
       " 247.79700974268073\n",
       " 246.2511535759747 \n",
       " 250.81677280182552\n",
       " 251.08368744086346\n",
       " 248.43288833573828\n",
       " 249.37126300861345\n",
       " 244.05255248722776\n",
       "   ⋮               \n",
       " 246.7132972815807 \n",
       " 242.90191036712022\n",
       " 246.73668344936564\n",
       " 234.0140419422764 \n",
       " 235.58936193379193\n",
       " 249.44309246502218\n",
       " 255.6977803246507 \n",
       " 254.5722963174516 \n",
       " 235.47579173640338\n",
       " 248.75859437119772\n",
       " 248.433236718044  \n",
       " 245.46429252266003"
      ]
     },
     "execution_count": 1,
     "metadata": {},
     "output_type": "execute_result"
    }
   ],
   "source": [
    "using(LinearAlgebra)\n",
    "A = rand(1000, 1000)\n",
    "x = rand(1000)\n",
    "b = A*x"
   ]
  },
  {
   "cell_type": "code",
   "execution_count": 6,
   "metadata": {
    "scrolled": true
   },
   "outputs": [
    {
     "name": "stdout",
     "output_type": "stream",
     "text": [
      "Inverse  time 0.194084148\n",
      "Operator \\ time 0.103735224\n",
      "Factorize time 0.096503178\n"
     ]
    }
   ],
   "source": [
    "invX = inv(A) * b\n",
    "divX = A \\ b\n",
    "AF= factorize(A)\n",
    "factX =  AF \\ b\n",
    "\n",
    "invTime = @elapsed inv(A) * b\n",
    "divTime = @elapsed  A \\ b\n",
    "factTime = @elapsed factorize(A)\n",
    "factTime += @elapsed AF \\ b\n",
    "\n",
    "print(\"Inverse  time \")\n",
    "println(invTime)\n",
    "print(\"Operator \\\\ time \")\n",
    "println(divTime)\n",
    "print(\"Factorize time \")\n",
    "println(factTime)"
   ]
  },
  {
   "cell_type": "code",
   "execution_count": 7,
   "metadata": {},
   "outputs": [
    {
     "name": "stdout",
     "output_type": "stream",
     "text": [
      "Błąd\n",
      "Inverse 3.9669335616345097e-11\n",
      "Operator \\ 1.1583239406514014e-11\n",
      "Factorize 1.1583239406514014e-11\n"
     ]
    }
   ],
   "source": [
    "println(\"Błąd\")\n",
    "print(\"Inverse \")\n",
    "invDeltaX = x - invX\n",
    "println(sqrt(dot(invDeltaX,invDeltaX)))\n",
    "\n",
    "divDeltaX = x -  divX\n",
    "print(\"Operator \\\\ \")\n",
    "println(sqrt(dot(divDeltaX,divDeltaX)))\n",
    "\n",
    "factDeltaX = x - factX\n",
    "\n",
    "print(\"Factorize \")\n",
    "println(sqrt(dot(factDeltaX,factDeltaX)))"
   ]
  },
  {
   "cell_type": "code",
   "execution_count": 5,
   "metadata": {},
   "outputs": [
    {
     "data": {
      "text/plain": [
       "4-element Array{Float64,1}:\n",
       "       4.564486305982914   \n",
       "     445.2705881818063     \n",
       " -203522.8530831342        \n",
       "       1.8216191152120616e7"
      ]
     },
     "execution_count": 5,
     "metadata": {},
     "output_type": "execute_result"
    }
   ],
   "source": [
    "using CSV\n",
    "using DataFrames\n",
    "using Plots\n",
    "using Polynomials\n",
    "using Statistics\n",
    "input=\"result3.csv\"\n",
    "df=CSV.read(input, delim=\",\")\n",
    "df3=by(df, [:size]) do subGroup\n",
    "          DataFrame(meanNaive = mean(subGroup[:time_naive]), stdNaive = std(subGroup[:time_naive]),\n",
    "            meanBetter = mean(subGroup[:time_better]), stdBetter = std(subGroup[:time_better]),\n",
    "            meanBlas = mean(subGroup[:time_gsl]), stdBlas = std(subGroup[:time_gsl])) \n",
    "        end\n",
    "y = df3[:meanNaive]\n",
    "x = [100,150,200,250,300,350,400,450,500,550]\n",
    "A=zeros(10,4)\n",
    "A[:,1] = x.^3\n",
    "A[:,2] = x.^2\n",
    "A[:,3] = x\n",
    "A[:,4] = ones(10)\n",
    "A \\ y\n"
   ]
  },
  {
   "cell_type": "code",
   "execution_count": 6,
   "metadata": {},
   "outputs": [
    {
     "data": {
      "text/html": [
       "1.8216191152120616e7 &#45; 203522.8530831342&#8729;x &#43; 445.2705881818063&#8729;x^2 &#43; 4.564486305982914&#8729;x^3"
      ],
      "text/latex": [
       "$1.8216191152120616e7 - 203522.8530831342\\cdot x + 445.2705881818063\\cdot x^{2} + 4.564486305982914\\cdot x^{3}$"
      ],
      "text/plain": [
       "Poly(1.8216191152120616e7 - 203522.8530831342*x + 445.2705881818063*x^2 + 4.564486305982914*x^3)"
      ]
     },
     "execution_count": 6,
     "metadata": {},
     "output_type": "execute_result"
    }
   ],
   "source": [
    "polyfit(x, y,3)"
   ]
  },
  {
   "cell_type": "code",
   "execution_count": 7,
   "metadata": {
    "scrolled": true
   },
   "outputs": [
    {
     "data": {
      "text/plain": [
       "1×4 Array{Int64,2}:\n",
       " 4  -2  2  0"
      ]
     },
     "execution_count": 7,
     "metadata": {},
     "output_type": "execute_result"
    }
   ],
   "source": [
    "using(LinearAlgebra)\n",
    "A = zeros(4,3)\n",
    "A[:,1] = [1 1 1 1]\n",
    "A[:,2] = [-1, 4, 4, -1]\n",
    "A[:,3] = [4 -2 2 0]"
   ]
  },
  {
   "cell_type": "code",
   "execution_count": 8,
   "metadata": {
    "scrolled": true
   },
   "outputs": [
    {
     "data": {
      "text/plain": [
       "QRPivoted{Float64,Array{Float64,2}}\n",
       "Q factor:\n",
       "4×4 LinearAlgebra.QRPackedQ{Float64,Array{Float64,2}}:\n",
       " -0.171499  -0.800368    0.282843  -0.5\n",
       "  0.685994   0.315296    0.424264  -0.5\n",
       "  0.685994  -0.509325   -0.141421   0.5\n",
       " -0.171499   0.0242536   0.848528   0.5\n",
       "R factor:\n",
       "3×3 Array{Float64,2}:\n",
       " 5.83095  -0.685994   1.02899 \n",
       " 0.0      -4.85071   -0.970143\n",
       " 0.0       0.0        1.41421 \n",
       "permutation:\n",
       "3-element Array{Int64,1}:\n",
       " 2\n",
       " 3\n",
       " 1"
      ]
     },
     "execution_count": 8,
     "metadata": {},
     "output_type": "execute_result"
    }
   ],
   "source": [
    "AF=factorize(A)"
   ]
  },
  {
   "cell_type": "code",
   "execution_count": 9,
   "metadata": {},
   "outputs": [
    {
     "data": {
      "text/plain": [
       "3×3 Array{Float64,2}:\n",
       " 0.171499  -0.0242536  -0.141421\n",
       " 0.0       -0.206155   -0.141421\n",
       " 0.0        0.0         0.707107"
      ]
     },
     "execution_count": 9,
     "metadata": {},
     "output_type": "execute_result"
    }
   ],
   "source": [
    "inv(AF.R)"
   ]
  },
  {
   "cell_type": "code",
   "execution_count": 10,
   "metadata": {},
   "outputs": [
    {
     "data": {
      "text/plain": [
       "4×4 Array{Float64,2}:\n",
       "  1.0          2.38524e-16  -1.38778e-16  1.94289e-16\n",
       "  2.38524e-16  1.0           6.59195e-17  1.73472e-18\n",
       " -1.38778e-16  6.59195e-17   1.0          0.0        \n",
       "  1.94289e-16  1.73472e-18   0.0          1.0        "
      ]
     },
     "execution_count": 10,
     "metadata": {},
     "output_type": "execute_result"
    }
   ],
   "source": [
    "Transpose(AF.Q)*AF.Q"
   ]
  }
 ],
 "metadata": {
  "kernelspec": {
   "display_name": "Julia 1.0.3 (4 threads)",
   "language": "julia",
   "name": "julia-1.0k"
  },
  "language_info": {
   "file_extension": ".jl",
   "mimetype": "application/julia",
   "name": "julia",
   "version": "1.0.3"
  }
 },
 "nbformat": 4,
 "nbformat_minor": 2
}

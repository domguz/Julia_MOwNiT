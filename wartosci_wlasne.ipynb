{
 "cells": [
  {
   "cell_type": "code",
   "execution_count": 19,
   "metadata": {},
   "outputs": [
    {
     "data": {
      "text/plain": [
       "6-element Array{Complex{Float64},1}:\n",
       "   3.1138161890640967 + 0.0im                \n",
       "   0.2915047038601628 + 0.4828733109915752im \n",
       "   0.2915047038601628 - 0.4828733109915752im \n",
       "   0.5411278949426759 + 0.0im                \n",
       " -0.06443705170708613 + 0.17164235111138257im\n",
       " -0.06443705170708613 - 0.17164235111138257im"
      ]
     },
     "execution_count": 19,
     "metadata": {},
     "output_type": "execute_result"
    }
   ],
   "source": [
    "using(LinearAlgebra)    \n",
    "A = rand(6,6)\n",
    "eigvals(A)"
   ]
  },
  {
   "cell_type": "code",
   "execution_count": 20,
   "metadata": {},
   "outputs": [
    {
     "data": {
      "text/plain": [
       "6×6 Array{Float64,2}:\n",
       "  3.11382       -0.60129        0.0633089     …  -0.64621     0.833883 \n",
       "  9.88131e-324   0.381616      -0.383908          0.0949312   0.328305 \n",
       "  4.94066e-324   0.628501       0.201394         -0.373037    0.253771 \n",
       " -4.94066e-324  -8.79837e-18   -1.16144e-18       0.0379758  -0.188694 \n",
       "  1.4822e-323   -1.4822e-323   -9.88131e-324     -0.0970127   0.237009 \n",
       " -1.4822e-323    4.94066e-324   0.0           …  -0.128781   -0.0318614"
      ]
     },
     "execution_count": 20,
     "metadata": {},
     "output_type": "execute_result"
    }
   ],
   "source": [
    "for i = 1:1000\n",
    "    F = qr(A)\n",
    "    A = transpose(F.Q)*A*F.Q\n",
    "end\n",
    "A"
   ]
  },
  {
   "cell_type": "code",
   "execution_count": null,
   "metadata": {},
   "outputs": [],
   "source": []
  },
  {
   "cell_type": "code",
   "execution_count": null,
   "metadata": {},
   "outputs": [],
   "source": []
  }
 ],
 "metadata": {
  "kernelspec": {
   "display_name": "Julia 1.0.3 (4 threads)",
   "language": "julia",
   "name": "julia-1.0k"
  },
  "language_info": {
   "file_extension": ".jl",
   "mimetype": "application/julia",
   "name": "julia",
   "version": "1.0.3"
  }
 },
 "nbformat": 4,
 "nbformat_minor": 2
}
